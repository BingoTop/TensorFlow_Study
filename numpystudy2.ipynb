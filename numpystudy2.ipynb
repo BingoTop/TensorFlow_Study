{
  "nbformat": 4,
  "nbformat_minor": 0,
  "metadata": {
    "colab": {
      "name": "numpystudy2.ipynb",
      "version": "0.3.2",
      "provenance": [],
      "include_colab_link": true
    },
    "kernelspec": {
      "name": "python3",
      "display_name": "Python 3"
    }
  },
  "cells": [
    {
      "cell_type": "markdown",
      "metadata": {
        "id": "view-in-github",
        "colab_type": "text"
      },
      "source": [
        "<a href=\"https://colab.research.google.com/github/BingoTop/TensorFlow_Study/blob/master/numpystudy2.ipynb\" target=\"_parent\"><img src=\"https://colab.research.google.com/assets/colab-badge.svg\" alt=\"Open In Colab\"/></a>"
      ]
    },
    {
      "cell_type": "code",
      "metadata": {
        "id": "x36mliuEcb0O",
        "colab_type": "code",
        "colab": {}
      },
      "source": [
        "import numpy as np"
      ],
      "execution_count": 0,
      "outputs": []
    },
    {
      "cell_type": "code",
      "metadata": {
        "id": "aVkKheGWcdoO",
        "colab_type": "code",
        "colab": {
          "base_uri": "https://localhost:8080/",
          "height": 52
        },
        "outputId": "b5da51d9-3e9a-4067-fc43-8c6902662e7f"
      },
      "source": [
        "# array의 dtype를 본다\n",
        "arr = np.array([[1,2,3],[1,2,3]])\n",
        "arr"
      ],
      "execution_count": 3,
      "outputs": [
        {
          "output_type": "execute_result",
          "data": {
            "text/plain": [
              "array([[1, 2, 3],\n",
              "       [1, 2, 3]])"
            ]
          },
          "metadata": {
            "tags": []
          },
          "execution_count": 3
        }
      ]
    },
    {
      "cell_type": "code",
      "metadata": {
        "id": "IIGEfjOxcrlv",
        "colab_type": "code",
        "colab": {
          "base_uri": "https://localhost:8080/",
          "height": 35
        },
        "outputId": "9cf3dbdb-66d2-46c2-eee5-4649d09ab822"
      },
      "source": [
        "arr.dtype"
      ],
      "execution_count": 4,
      "outputs": [
        {
          "output_type": "execute_result",
          "data": {
            "text/plain": [
              "dtype('int64')"
            ]
          },
          "metadata": {
            "tags": []
          },
          "execution_count": 4
        }
      ]
    },
    {
      "cell_type": "code",
      "metadata": {
        "id": "09UpD5b3cuxD",
        "colab_type": "code",
        "colab": {
          "base_uri": "https://localhost:8080/",
          "height": 52
        },
        "outputId": "af02acb6-cf62-4e6d-b613-459723b3d99e"
      },
      "source": [
        "# 데이터 타입 변환 가능\n",
        "arr.astype('float32')"
      ],
      "execution_count": 5,
      "outputs": [
        {
          "output_type": "execute_result",
          "data": {
            "text/plain": [
              "array([[1., 2., 3.],\n",
              "       [1., 2., 3.]], dtype=float32)"
            ]
          },
          "metadata": {
            "tags": []
          },
          "execution_count": 5
        }
      ]
    },
    {
      "cell_type": "code",
      "metadata": {
        "id": "MBR5Hi18c8Y6",
        "colab_type": "code",
        "colab": {
          "base_uri": "https://localhost:8080/",
          "height": 52
        },
        "outputId": "2e2e8b3e-eacb-4cf2-f1f0-b68970fe8777"
      },
      "source": [
        "arr.astype('int8')"
      ],
      "execution_count": 6,
      "outputs": [
        {
          "output_type": "execute_result",
          "data": {
            "text/plain": [
              "array([[1, 2, 3],\n",
              "       [1, 2, 3]], dtype=int8)"
            ]
          },
          "metadata": {
            "tags": []
          },
          "execution_count": 6
        }
      ]
    },
    {
      "cell_type": "code",
      "metadata": {
        "id": "Z_tu7Xa6c_6S",
        "colab_type": "code",
        "colab": {
          "base_uri": "https://localhost:8080/",
          "height": 52
        },
        "outputId": "c8d2bcc3-0c12-4e3d-ae45-5a1ff9937b31"
      },
      "source": [
        "arr.astype('int32')"
      ],
      "execution_count": 8,
      "outputs": [
        {
          "output_type": "execute_result",
          "data": {
            "text/plain": [
              "array([[1, 2, 3],\n",
              "       [1, 2, 3]], dtype=int32)"
            ]
          },
          "metadata": {
            "tags": []
          },
          "execution_count": 8
        }
      ]
    },
    {
      "cell_type": "code",
      "metadata": {
        "id": "ciyop9H9dDF8",
        "colab_type": "code",
        "colab": {
          "base_uri": "https://localhost:8080/",
          "height": 52
        },
        "outputId": "b679167a-c992-4800-f573-5b464588a1ac"
      },
      "source": [
        "arr = np.array([[1,2,3],[1,2,3]], dtype = np.uint8)\n",
        "arr\n",
        "# dtype 미리 설정 가능"
      ],
      "execution_count": 10,
      "outputs": [
        {
          "output_type": "execute_result",
          "data": {
            "text/plain": [
              "array([[1, 2, 3],\n",
              "       [1, 2, 3]], dtype=uint8)"
            ]
          },
          "metadata": {
            "tags": []
          },
          "execution_count": 10
        }
      ]
    },
    {
      "cell_type": "code",
      "metadata": {
        "id": "ImhYOmR7dQQo",
        "colab_type": "code",
        "colab": {
          "base_uri": "https://localhost:8080/",
          "height": 35
        },
        "outputId": "e47d537c-dbb4-44b4-cb47-ebf6b5a2ae27"
      },
      "source": [
        "# len(arr.shape)를 통해서 차원의 갯수를 확인할 수 있지만, 아래와 같이\n",
        "# ndim을 통해 차원 수를 return 가능\n",
        "len(arr.shape)"
      ],
      "execution_count": 11,
      "outputs": [
        {
          "output_type": "execute_result",
          "data": {
            "text/plain": [
              "2"
            ]
          },
          "metadata": {
            "tags": []
          },
          "execution_count": 11
        }
      ]
    },
    {
      "cell_type": "code",
      "metadata": {
        "id": "cYow4Cl3dqyb",
        "colab_type": "code",
        "colab": {
          "base_uri": "https://localhost:8080/",
          "height": 35
        },
        "outputId": "ec4b7b0e-889a-43f7-c5c9-074d7b65529b"
      },
      "source": [
        "arr.size"
      ],
      "execution_count": 12,
      "outputs": [
        {
          "output_type": "execute_result",
          "data": {
            "text/plain": [
              "6"
            ]
          },
          "metadata": {
            "tags": []
          },
          "execution_count": 12
        }
      ]
    },
    {
      "cell_type": "code",
      "metadata": {
        "id": "umZRYRamdt1Y",
        "colab_type": "code",
        "colab": {
          "base_uri": "https://localhost:8080/",
          "height": 35
        },
        "outputId": "3763fb3a-610a-42fe-d2d0-854278bf86ae"
      },
      "source": [
        "# Reshape\n",
        "\n",
        "arr.shape"
      ],
      "execution_count": 17,
      "outputs": [
        {
          "output_type": "execute_result",
          "data": {
            "text/plain": [
              "(2, 3)"
            ]
          },
          "metadata": {
            "tags": []
          },
          "execution_count": 17
        }
      ]
    },
    {
      "cell_type": "code",
      "metadata": {
        "id": "g2xMnd7Gd0bn",
        "colab_type": "code",
        "colab": {
          "base_uri": "https://localhost:8080/",
          "height": 35
        },
        "outputId": "e94ac7ed-ac74-4d43-8c19-7dd17259864b"
      },
      "source": [
        "arr = arr.reshape([1, 6])\n",
        "arr"
      ],
      "execution_count": 20,
      "outputs": [
        {
          "output_type": "execute_result",
          "data": {
            "text/plain": [
              "array([[1, 2, 3, 1, 2, 3]], dtype=uint8)"
            ]
          },
          "metadata": {
            "tags": []
          },
          "execution_count": 20
        }
      ]
    },
    {
      "cell_type": "code",
      "metadata": {
        "id": "b7AvikBed1uz",
        "colab_type": "code",
        "colab": {
          "base_uri": "https://localhost:8080/",
          "height": 35
        },
        "outputId": "2054c687-2b12-4bd0-e597-12ef995f9a17"
      },
      "source": [
        "arr.shape\n",
        "\n"
      ],
      "execution_count": 19,
      "outputs": [
        {
          "output_type": "execute_result",
          "data": {
            "text/plain": [
              "(1, 6)"
            ]
          },
          "metadata": {
            "tags": []
          },
          "execution_count": 19
        }
      ]
    },
    {
      "cell_type": "code",
      "metadata": {
        "id": "U6dbOe8DeEkh",
        "colab_type": "code",
        "colab": {
          "base_uri": "https://localhost:8080/",
          "height": 35
        },
        "outputId": "a3b2262d-7664-4a4a-af69-54064c3a45d7"
      },
      "source": [
        "arr = np.array([[1, 2, 3],[1, 2, 3]])\n",
        "arr\n",
        "arr.reshape([6]).shape"
      ],
      "execution_count": 27,
      "outputs": [
        {
          "output_type": "execute_result",
          "data": {
            "text/plain": [
              "(6,)"
            ]
          },
          "metadata": {
            "tags": []
          },
          "execution_count": 27
        }
      ]
    },
    {
      "cell_type": "code",
      "metadata": {
        "id": "QDIv1bIZePwg",
        "colab_type": "code",
        "colab": {
          "base_uri": "https://localhost:8080/",
          "height": 35
        },
        "outputId": "29762e04-3c11-4a4b-fe15-14551d8ecbc0"
      },
      "source": [
        "# reshape -1 활용\n",
        "arr.reshape(1, -1) # 마지막 차원에서 6이었던 것을 사이즈에서 남는 것으로 차원이 되게"
      ],
      "execution_count": 29,
      "outputs": [
        {
          "output_type": "execute_result",
          "data": {
            "text/plain": [
              "array([[1, 2, 3, 1, 2, 3]])"
            ]
          },
          "metadata": {
            "tags": []
          },
          "execution_count": 29
        }
      ]
    },
    {
      "cell_type": "code",
      "metadata": {
        "id": "NCMb6cnUeyRW",
        "colab_type": "code",
        "colab": {
          "base_uri": "https://localhost:8080/",
          "height": 35
        },
        "outputId": "93a634cd-9529-4f39-b589-49bb50399db2"
      },
      "source": [
        "arr.shape"
      ],
      "execution_count": 31,
      "outputs": [
        {
          "output_type": "execute_result",
          "data": {
            "text/plain": [
              "(2, 3)"
            ]
          },
          "metadata": {
            "tags": []
          },
          "execution_count": 31
        }
      ]
    },
    {
      "cell_type": "code",
      "metadata": {
        "id": "PzPCAWiBe44R",
        "colab_type": "code",
        "colab": {
          "base_uri": "https://localhost:8080/",
          "height": 35
        },
        "outputId": "11fc95c3-6107-479f-c504-9744f1777139"
      },
      "source": [
        "# random array 생성\n",
        "arr = np.random.randn(8,8)\n",
        "arr.shape"
      ],
      "execution_count": 32,
      "outputs": [
        {
          "output_type": "execute_result",
          "data": {
            "text/plain": [
              "(8, 8)"
            ]
          },
          "metadata": {
            "tags": []
          },
          "execution_count": 32
        }
      ]
    },
    {
      "cell_type": "code",
      "metadata": {
        "id": "B_Fbee4YfA9P",
        "colab_type": "code",
        "colab": {
          "base_uri": "https://localhost:8080/",
          "height": 35
        },
        "outputId": "120268d9-edaa-417c-8640-8505961cc278"
      },
      "source": [
        "arr = arr.reshape([32,2])\n",
        "arr.shape"
      ],
      "execution_count": 33,
      "outputs": [
        {
          "output_type": "execute_result",
          "data": {
            "text/plain": [
              "(32, 2)"
            ]
          },
          "metadata": {
            "tags": []
          },
          "execution_count": 33
        }
      ]
    },
    {
      "cell_type": "code",
      "metadata": {
        "id": "Ht03skAxfFaQ",
        "colab_type": "code",
        "colab": {}
      },
      "source": [
        "arr = arr.reshape(-1,2,1)"
      ],
      "execution_count": 0,
      "outputs": []
    },
    {
      "cell_type": "code",
      "metadata": {
        "id": "NEutuN8KfJ53",
        "colab_type": "code",
        "colab": {
          "base_uri": "https://localhost:8080/",
          "height": 35
        },
        "outputId": "5177e8fb-a333-4141-d445-9941aa0942e0"
      },
      "source": [
        "arr.shape"
      ],
      "execution_count": 37,
      "outputs": [
        {
          "output_type": "execute_result",
          "data": {
            "text/plain": [
              "(32, 2, 1)"
            ]
          },
          "metadata": {
            "tags": []
          },
          "execution_count": 37
        }
      ]
    },
    {
      "cell_type": "code",
      "metadata": {
        "id": "pYkg32yWfL_2",
        "colab_type": "code",
        "colab": {}
      },
      "source": [
        "# Ravel\n",
        "# arr의 차원을 1로 바꿔줌 나중에 배울 layer를 flatten 할 때 같은 기능이라 생각하면 됨\n",
        "arr = arr.ravel()"
      ],
      "execution_count": 0,
      "outputs": []
    },
    {
      "cell_type": "code",
      "metadata": {
        "id": "Ws3g_X8vfhej",
        "colab_type": "code",
        "colab": {
          "base_uri": "https://localhost:8080/",
          "height": 35
        },
        "outputId": "6baf6659-2803-4489-f42c-ef76b33db1de"
      },
      "source": [
        "arr.shape"
      ],
      "execution_count": 40,
      "outputs": [
        {
          "output_type": "execute_result",
          "data": {
            "text/plain": [
              "(64,)"
            ]
          },
          "metadata": {
            "tags": []
          },
          "execution_count": 40
        }
      ]
    },
    {
      "cell_type": "code",
      "metadata": {
        "id": "hIC8uc_9fkAY",
        "colab_type": "code",
        "colab": {
          "base_uri": "https://localhost:8080/",
          "height": 156
        },
        "outputId": "e5b7c6d1-eea9-47ea-de19-5183ea10fb53"
      },
      "source": [
        "arr.ravel() == arr.reshape(-1) # 같음"
      ],
      "execution_count": 41,
      "outputs": [
        {
          "output_type": "execute_result",
          "data": {
            "text/plain": [
              "array([ True,  True,  True,  True,  True,  True,  True,  True,  True,\n",
              "        True,  True,  True,  True,  True,  True,  True,  True,  True,\n",
              "        True,  True,  True,  True,  True,  True,  True,  True,  True,\n",
              "        True,  True,  True,  True,  True,  True,  True,  True,  True,\n",
              "        True,  True,  True,  True,  True,  True,  True,  True,  True,\n",
              "        True,  True,  True,  True,  True,  True,  True,  True,  True,\n",
              "        True,  True,  True,  True,  True,  True,  True,  True,  True,\n",
              "        True])"
            ]
          },
          "metadata": {
            "tags": []
          },
          "execution_count": 41
        }
      ]
    },
    {
      "cell_type": "code",
      "metadata": {
        "id": "8B2umU0MfpcO",
        "colab_type": "code",
        "colab": {
          "base_uri": "https://localhost:8080/",
          "height": 35
        },
        "outputId": "d92eba7c-3c05-4944-bd00-eb241a321319"
      },
      "source": [
        "# np.expand_dims()\n",
        "# 안의 값은 유지하되 차우너 수를 늘리고 싶을 때가 있음\n",
        "# 이럴 때 사용하는 것이 expand_dims\n",
        "arr.shape"
      ],
      "execution_count": 42,
      "outputs": [
        {
          "output_type": "execute_result",
          "data": {
            "text/plain": [
              "(64,)"
            ]
          },
          "metadata": {
            "tags": []
          },
          "execution_count": 42
        }
      ]
    },
    {
      "cell_type": "code",
      "metadata": {
        "id": "UfisKSGef_2B",
        "colab_type": "code",
        "colab": {
          "base_uri": "https://localhost:8080/",
          "height": 35
        },
        "outputId": "77076a43-9ac5-43c7-d12a-62073e69e401"
      },
      "source": [
        "arr = np.expand_dims(arr,0) # 두번째 인자 어디에다 추가할 것이냐\n",
        "arr.shape"
      ],
      "execution_count": 43,
      "outputs": [
        {
          "output_type": "execute_result",
          "data": {
            "text/plain": [
              "(1, 64)"
            ]
          },
          "metadata": {
            "tags": []
          },
          "execution_count": 43
        }
      ]
    },
    {
      "cell_type": "code",
      "metadata": {
        "id": "5YyDoHFsgHhA",
        "colab_type": "code",
        "colab": {
          "base_uri": "https://localhost:8080/",
          "height": 433
        },
        "outputId": "b2a3c383-c5a9-4008-e5a1-fd2a2620e24f"
      },
      "source": [
        "arr = np.random.randn(8,8)\n",
        "arr"
      ],
      "execution_count": 44,
      "outputs": [
        {
          "output_type": "execute_result",
          "data": {
            "text/plain": [
              "array([[ 1.38946115e+00,  6.19190296e-01,  9.16358008e-02,\n",
              "        -1.41325426e+00, -8.64344382e-01,  3.78227771e-01,\n",
              "         6.79911020e-01, -8.78052992e-01],\n",
              "       [-9.92657080e-01,  1.30990975e+00, -1.29312957e+00,\n",
              "        -4.38440783e-01, -1.67401548e+00, -2.93300864e-03,\n",
              "         8.31595406e-01,  2.29190478e+00],\n",
              "       [-3.39677181e-01,  2.27089063e-01,  1.66413534e-01,\n",
              "        -1.57028772e+00, -1.06504919e+00,  3.71913184e-01,\n",
              "        -2.91428804e-01, -6.10414926e-02],\n",
              "       [-1.55781263e-01,  3.68256737e-01,  1.52213209e-01,\n",
              "         3.39947368e-01,  3.12747562e-01,  8.51511383e-01,\n",
              "         6.69243659e-01, -4.02738582e-01],\n",
              "       [ 4.34293705e+00,  5.39314260e-02, -2.19948849e-01,\n",
              "        -1.88462240e-01, -4.03465805e-01, -3.49853898e-01,\n",
              "        -1.16588789e+00,  1.85510658e-01],\n",
              "       [-6.82616605e-01,  6.19150354e-01,  1.18839891e+00,\n",
              "        -1.64050341e+00, -8.31787255e-01,  1.20571373e+00,\n",
              "         2.59531543e-01, -5.16507503e-01],\n",
              "       [-8.24598640e-01, -1.23283471e+00, -8.13982001e-01,\n",
              "         8.36379949e-01,  2.65626930e-01, -5.13813177e-03,\n",
              "        -2.98212501e-01, -5.57548103e-02],\n",
              "       [ 2.41467971e-01, -1.65027206e+00, -7.93165069e-02,\n",
              "         4.21756318e-01, -4.03907871e-02,  9.63850754e-02,\n",
              "         6.97939208e-01,  4.96655626e-01]])"
            ]
          },
          "metadata": {
            "tags": []
          },
          "execution_count": 44
        }
      ]
    },
    {
      "cell_type": "code",
      "metadata": {
        "id": "KLxqQ3lFgMGS",
        "colab_type": "code",
        "colab": {}
      },
      "source": [
        "arr = arr.ravel()"
      ],
      "execution_count": 0,
      "outputs": []
    },
    {
      "cell_type": "code",
      "metadata": {
        "id": "3ZMSObhFgP03",
        "colab_type": "code",
        "colab": {
          "base_uri": "https://localhost:8080/",
          "height": 35
        },
        "outputId": "03711c78-f042-4420-d526-5a6e069e3ccd"
      },
      "source": [
        "arr.shape"
      ],
      "execution_count": 46,
      "outputs": [
        {
          "output_type": "execute_result",
          "data": {
            "text/plain": [
              "(64,)"
            ]
          },
          "metadata": {
            "tags": []
          },
          "execution_count": 46
        }
      ]
    },
    {
      "cell_type": "code",
      "metadata": {
        "id": "2OtzsLKkgQf7",
        "colab_type": "code",
        "colab": {}
      },
      "source": [
        "arr = np.expand_dims(arr,-1)"
      ],
      "execution_count": 0,
      "outputs": []
    },
    {
      "cell_type": "code",
      "metadata": {
        "id": "JVPK8ur_gTGc",
        "colab_type": "code",
        "colab": {
          "base_uri": "https://localhost:8080/",
          "height": 35
        },
        "outputId": "b386b31b-7dbf-47b4-cab8-dc9a8471dfe9"
      },
      "source": [
        "arr.shape"
      ],
      "execution_count": 48,
      "outputs": [
        {
          "output_type": "execute_result",
          "data": {
            "text/plain": [
              "(64, 1)"
            ]
          },
          "metadata": {
            "tags": []
          },
          "execution_count": 48
        }
      ]
    },
    {
      "cell_type": "code",
      "metadata": {
        "id": "WKy-r7R7gVDh",
        "colab_type": "code",
        "colab": {}
      },
      "source": [
        ""
      ],
      "execution_count": 0,
      "outputs": []
    }
  ]
}